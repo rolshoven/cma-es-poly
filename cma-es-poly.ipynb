{
 "cells": [
  {
   "cell_type": "markdown",
   "metadata": {},
   "source": [
    "# Approximating Polynomials Using CMA-ES"
   ]
  },
  {
   "cell_type": "markdown",
   "metadata": {},
   "source": [
    "## Defining the Original Polynomial and the Loss"
   ]
  },
  {
   "cell_type": "code",
   "execution_count": 1,
   "metadata": {},
   "outputs": [],
   "source": [
    "import numpy as np\n",
    "import cma\n",
    "import re\n",
    "from IPython.display import display, Markdown"
   ]
  },
  {
   "cell_type": "code",
   "execution_count": 2,
   "metadata": {},
   "outputs": [],
   "source": [
    "COEFF_RANGE = [-25, 25]  # Range of the coefficients for the polynomial\n",
    "POLY_ORDER = 10          # Order of the polynomial\n",
    "POLY_SEED = 123          # Seed for numpy.random when generating the coefficients\n",
    "LOSS_SEED = 321          # Seed for numpy.random when generating the evaluation points in the loss\n",
    "NUM_LOSS_EVAL = 1000     # Number of function evaluations in the loss"
   ]
  },
  {
   "cell_type": "code",
   "execution_count": 3,
   "metadata": {},
   "outputs": [],
   "source": [
    "np.random.seed(POLY_SEED)\n",
    "coeff = np.random.randint(COEFF_RANGE[0], COEFF_RANGE[1], POLY_ORDER)\n",
    "\n",
    "def polynomial(x):  \n",
    "    return sum([c * x ** i for i, c in enumerate(coeff)])\n",
    "\n",
    "def poly_latex(coeff):\n",
    "    latex_string = ' + '.join([f'{c}x^{i}' for i, c in list(enumerate(coeff))[::-1]])\n",
    "    latex_string = latex_string.replace('+ -', '- ').replace('x^0', '').replace('x^1', 'x')\n",
    "    latex_string = re.sub('[+-]\\s0(x\\^\\d+)?', '', latex_string).strip()\n",
    "    latex_string = re.sub('\\s1x', ' x', latex_string).strip()\n",
    "    return latex_string"
   ]
  },
  {
   "cell_type": "code",
   "execution_count": 4,
   "metadata": {},
   "outputs": [
    {
     "data": {
      "text/markdown": [
       "**Original polynomial:** $\\quad f(x)=8x^9 - 3x^8 + 17x^7 - 6x^6 - 8x^5 + 13x^4 + 9x^3 + 3x^2 - 23x + 20$"
      ],
      "text/plain": [
       "<IPython.core.display.Markdown object>"
      ]
     },
     "metadata": {},
     "output_type": "display_data"
    }
   ],
   "source": [
    "display(Markdown(rf'**Original polynomial:** $\\quad f(x)={poly_latex(coeff)}$'))"
   ]
  },
  {
   "cell_type": "code",
   "execution_count": 5,
   "metadata": {},
   "outputs": [],
   "source": [
    "np.random.seed(LOSS_SEED)\n",
    "points = np.random.rand(NUM_LOSS_EVAL) / (np.random.rand() + 1e-5)\n",
    "y_true = np.array([polynomial(x) for x in points])\n",
    "\n",
    "def loss(coeff):\n",
    "    \"\"\" RMSE loss for given coefficients and true coefficients. \"\"\"\n",
    "    y_pred = np.array([sum([c * x ** i for i, c in enumerate(coeff)]) for x in points])\n",
    "    return np.sqrt(np.mean((y_pred - y_true) ** 2))"
   ]
  },
  {
   "cell_type": "markdown",
   "metadata": {},
   "source": [
    "## Find the Best Coefficients Using CMA-ES"
   ]
  },
  {
   "cell_type": "code",
   "execution_count": 6,
   "metadata": {},
   "outputs": [
    {
     "name": "stdout",
     "output_type": "stream",
     "text": [
      "Iterat #Fevals   function value  axis ratio  sigma  min&max std  t[m:s]\n",
      "    1     10 9.888194945854134e+01 1.0e+00 4.94e-01  5e-01  5e-01 0:00.1\n",
      "    2     20 9.183691142900661e+01 1.2e+00 5.15e-01  5e-01  5e-01 0:00.2\n",
      "    3     30 8.515738659341694e+01 1.3e+00 5.68e-01  5e-01  6e-01 0:00.3\n",
      "   40    400 4.836309220390717e+00 6.2e+00 2.33e+00  1e+00  3e+00 0:03.4\n",
      "   89    890 1.047068845199528e+00 3.9e+01 1.04e+00  6e-01  2e+00 0:07.4\n",
      "  100   1000 9.094891067928869e-01 4.9e+01 6.66e-01  3e-01  1e+00 0:08.3\n",
      "  173   1730 3.125422597515681e-01 2.7e+02 4.69e-01  1e-01  7e-01 0:14.4\n",
      "  200   2000 9.308110328177320e-02 8.3e+02 6.46e-01  1e-01  2e+00 0:16.6\n",
      "  295   2950 1.334761601438233e-02 4.8e+03 1.53e-01  1e-02  6e-01 0:24.7\n",
      "  300   3000 1.320316396821978e-02 4.7e+03 1.31e-01  1e-02  5e-01 0:25.1\n",
      "  400   4000 3.777950984929764e-03 2.5e+04 2.29e-01  1e-02  1e+00 0:33.6\n",
      "  500   5000 2.532395621114231e-03 6.3e+04 8.34e-02  1e-03  5e-01 0:42.1\n",
      "  600   6000 2.355180444679707e-04 4.2e+05 3.64e-03  2e-05  5e-02 0:50.5\n",
      "  700   7000 1.355192972512089e-04 1.6e+00 1.75e-01  2e-01  2e-01 0:59.0\n",
      "  800   8000 4.312072320980080e-08 5.2e+00 1.51e-04  5e-05  1e-04 1:07.6\n",
      "  900   9000 2.351297888496353e-10 6.4e+00 1.33e-06  3e-07  5e-07 1:16.3\n",
      " 1000  10000 2.909297487988929e-10 1.2e+01 8.50e-07  1e-07  3e-07 1:25.0\n",
      "Iterat #Fevals   function value  axis ratio  sigma  min&max std  t[m:s]\n",
      " 1100  11000 2.438311312620849e-10 2.3e+01 5.79e-07  5e-08  2e-07 1:33.6\n",
      " 1200  12000 2.620593227442595e-10 4.7e+01 1.84e-07  2e-08  6e-08 1:42.2\n",
      " 1300  13000 2.616208858483796e-10 5.8e+01 1.60e-07  1e-08  4e-08 1:50.8\n",
      " 1400  14000 2.620043155261143e-10 1.3e+02 3.29e-07  2e-08  9e-08 1:59.5\n",
      " 1425  14250 2.640857105877048e-10 1.2e+02 2.65e-07  2e-08  7e-08 2:01.6\n"
     ]
    },
    {
     "data": {
      "text/plain": [
       "<cma.evolution_strategy.CMAEvolutionStrategy at 0x7f062f78f670>"
      ]
     },
     "execution_count": 6,
     "metadata": {},
     "output_type": "execute_result"
    }
   ],
   "source": [
    "es = cma.CMAEvolutionStrategy(POLY_ORDER * [0], 0.5, {'verbose': -3})\n",
    "es.optimize(loss)"
   ]
  },
  {
   "cell_type": "code",
   "execution_count": 7,
   "metadata": {},
   "outputs": [
    {
     "name": "stdout",
     "output_type": "stream",
     "text": [
      "Best loss value: 2e-10\n"
     ]
    }
   ],
   "source": [
    "print(f'Best loss value: {loss(es.result.xbest):.2}')"
   ]
  },
  {
   "cell_type": "markdown",
   "metadata": {},
   "source": [
    "# Compare the Learned Polynomial With the Original One"
   ]
  },
  {
   "cell_type": "code",
   "execution_count": 8,
   "metadata": {},
   "outputs": [
    {
     "data": {
      "text/markdown": [
       "**Original polynomial:** $\\newline \\quad f(x)=8x^9 - 3x^8 + 17x^7 - 6x^6 - 8x^5 + 13x^4 + 9x^3 + 3x^2 - 23x + 20$"
      ],
      "text/plain": [
       "<IPython.core.display.Markdown object>"
      ]
     },
     "metadata": {},
     "output_type": "display_data"
    },
    {
     "data": {
      "text/markdown": [
       "**Learned polynomial:** $\\newline\\quad f(x)=8.000000353444193x^9 - 3.000002246146323x^8 + 17.000005979905836x^7 - 6.000008706294466x^6 - 7.999992380326148x^5 + 12.99999583459794x^4 + 9.000001424479706x^3 + 2.9999997140585037x^2 - 22.99999997334089x + 19.99999999959079$"
      ],
      "text/plain": [
       "<IPython.core.display.Markdown object>"
      ]
     },
     "metadata": {},
     "output_type": "display_data"
    }
   ],
   "source": [
    "display(Markdown(rf'**Original polynomial:** $\\newline \\quad f(x)={poly_latex(coeff)}$'))\n",
    "display(Markdown(rf'**Learned polynomial:** $\\newline\\quad f(x)={poly_latex(es.result.xbest)}$'))"
   ]
  }
 ],
 "metadata": {
  "kernelspec": {
   "display_name": "Python 3",
   "language": "python",
   "name": "python3"
  },
  "language_info": {
   "codemirror_mode": {
    "name": "ipython",
    "version": 3
   },
   "file_extension": ".py",
   "mimetype": "text/x-python",
   "name": "python",
   "nbconvert_exporter": "python",
   "pygments_lexer": "ipython3",
   "version": "3.8.2"
  }
 },
 "nbformat": 4,
 "nbformat_minor": 4
}
